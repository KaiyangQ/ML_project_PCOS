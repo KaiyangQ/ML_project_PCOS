{
 "cells": [
  {
   "metadata": {
    "collapsed": true,
    "ExecuteTime": {
     "end_time": "2025-05-05T05:46:28.483029Z",
     "start_time": "2025-05-05T05:46:28.474643Z"
    }
   },
   "cell_type": "code",
   "source": [
    "import os\n",
    "import numpy as np\n",
    "import pandas as pd\n",
    "import matplotlib.pyplot as plt\n",
    "import torch\n",
    "import torch.nn as nn\n",
    "import torch.optim as optim\n",
    "from torch.utils.data import DataLoader, random_split, Dataset\n",
    "from torchvision import datasets, models, transforms\n",
    "from PIL import Image\n",
    "import time\n",
    "import copy # To copy model weights\n",
    "from tqdm import tqdm # For progress bars\n",
    "\n",
    "# Check for GPU availability and set device\n",
    "if torch.cuda.is_available():\n",
    "    device = torch.device(\"cuda\")\n",
    "    print(f\"Using GPU: {torch.cuda.get_device_name(0)}\")\n",
    "else:\n",
    "    device = torch.device(\"cpu\")\n",
    "    print(\"Using CPU\")"
   ],
   "id": "initial_id",
   "outputs": [
    {
     "name": "stdout",
     "output_type": "stream",
     "text": [
      "Using GPU: NVIDIA GeForce RTX 5080\n"
     ]
    }
   ],
   "execution_count": 10
  },
  {
   "metadata": {
    "ExecuteTime": {
     "end_time": "2025-05-05T05:46:33.230298Z",
     "start_time": "2025-05-05T05:46:33.214425Z"
    }
   },
   "cell_type": "code",
   "source": [
    "# --- Configuration ---\n",
    "# !! Adjust these paths if needed, relative to your notebook !!\n",
    "# This assumes your data is in: ../data/archive/data/train/infected and ../data/archive/data/train/notinfected\n",
    "# ImageFolder expects a structure like: data_dir/class_name/image.xxx\n",
    "# So we point data_dir to the parent of 'infected' and 'notinfected'\n",
    "data_dir = '../data/archive/data/train' # Check this path carefully!\n",
    "\n",
    "# Hyperparameters\n",
    "batch_size = 32\n",
    "learning_rate = 0.001\n",
    "num_epochs = 25 # Start with fewer epochs (e.g., 10-15) and increase if needed\n",
    "\n",
    "# --- Image Transformations ---\n",
    "# Define transforms for training (with augmentation) and validation/testing (no augmentation)\n",
    "# Using standard ImageNet normalization values as a starting point\n",
    "image_size = 224 # ResNet and many others expect 224x224\n",
    "\n",
    "data_transforms = {\n",
    "    'train': transforms.Compose([\n",
    "        transforms.RandomResizedCrop(image_size),\n",
    "        transforms.RandomHorizontalFlip(),\n",
    "        # transforms.RandomRotation(10), # Optional augmentation\n",
    "        # transforms.ColorJitter(brightness=0.2, contrast=0.2), # Optional augmentation\n",
    "        transforms.ToTensor(),\n",
    "        transforms.Normalize([0.485, 0.456, 0.406], [0.229, 0.224, 0.225])\n",
    "    ]),\n",
    "    'val': transforms.Compose([\n",
    "        transforms.Resize(256),\n",
    "        transforms.CenterCrop(image_size),\n",
    "        transforms.ToTensor(),\n",
    "        transforms.Normalize([0.485, 0.456, 0.406], [0.229, 0.224, 0.225])\n",
    "    ]),\n",
    "    # If you have a separate test set, use 'val' transforms for it too\n",
    "    'test': transforms.Compose([\n",
    "        transforms.Resize(256),\n",
    "        transforms.CenterCrop(image_size),\n",
    "        transforms.ToTensor(),\n",
    "        transforms.Normalize([0.485, 0.456, 0.406], [0.229, 0.224, 0.225])\n",
    "    ]),\n",
    "}"
   ],
   "id": "2114eafe1b31d3a",
   "outputs": [],
   "execution_count": 11
  },
  {
   "metadata": {
    "ExecuteTime": {
     "end_time": "2025-05-05T05:46:35.441067Z",
     "start_time": "2025-05-05T05:46:35.409466Z"
    }
   },
   "cell_type": "code",
   "source": [
    "# Cell 3 (Corrected): Load Data, Split, Create DataLoaders\n",
    "\n",
    "# --- Create Datasets and DataLoaders ---\n",
    "\n",
    "# Use ImageFolder WITHOUT initial transforms to load PIL Images\n",
    "try:\n",
    "    full_dataset_pil = datasets.ImageFolder(data_dir, transform=None) # Load as PIL images\n",
    "    class_names = full_dataset_pil.classes\n",
    "    print(\"Classes found:\", class_names)\n",
    "    print(\"Class to index mapping:\", full_dataset_pil.class_to_idx)\n",
    "    print(\"Total images found:\", len(full_dataset_pil))\n",
    "\n",
    "    # Split into Training and Validation (e.g., 80/20 split)\n",
    "    train_size = int(0.8 * len(full_dataset_pil))\n",
    "    val_size = len(full_dataset_pil) - train_size\n",
    "    # Use the PIL dataset for splitting\n",
    "    train_subset_pil, val_subset_pil = random_split(full_dataset_pil, [train_size, val_size], generator=torch.Generator().manual_seed(42))\n",
    "\n",
    "    # Custom Dataset wrapper to apply transforms ON THE FLY\n",
    "    class CustomSubsetWithTransform(Dataset):\n",
    "        def __init__(self, subset, transform=None):\n",
    "            self.subset = subset\n",
    "            self.transform = transform # Store the appropriate transform pipeline\n",
    "\n",
    "        def __getitem__(self, index):\n",
    "            # Get PIL image and label from the original subset\n",
    "            x, y = self.subset[index]\n",
    "            # Apply transforms HERE before returning\n",
    "            if self.transform:\n",
    "                x = self.transform(x)\n",
    "            return x, y\n",
    "\n",
    "        def __len__(self):\n",
    "            return len(self.subset)\n",
    "\n",
    "    # Create the final datasets by wrapping the PIL subsets with the appropriate transforms\n",
    "    train_dataset = CustomSubsetWithTransform(train_subset_pil, transform=data_transforms['train'])\n",
    "    val_dataset = CustomSubsetWithTransform(val_subset_pil, transform=data_transforms['val'])\n",
    "\n",
    "\n",
    "    # Create DataLoaders (Keep num_workers=0 for now)\n",
    "    dataloaders = {\n",
    "        'train': DataLoader(train_dataset, batch_size=batch_size, shuffle=True, num_workers=0),\n",
    "        'val': DataLoader(val_dataset, batch_size=batch_size, shuffle=False, num_workers=0)\n",
    "    }\n",
    "    dataset_sizes = {'train': len(train_dataset), 'val': len(val_dataset)}\n",
    "\n",
    "    print(f\"\\nTraining set size: {dataset_sizes['train']}\")\n",
    "    print(f\"Validation set size: {dataset_sizes['val']}\")\n",
    "    data_loading_successful = True\n",
    "\n",
    "except FileNotFoundError:\n",
    "    print(f\"Error: Data directory not found at {data_dir}\")\n",
    "    print(\"Please ensure the 'data_dir' variable points to the directory containing 'infected' and 'notinfected' subfolders.\")\n",
    "    data_loading_successful = False\n",
    "except Exception as e:\n",
    "     print(f\"An error occurred during data loading: {e}\")\n",
    "     data_loading_successful = False"
   ],
   "id": "534eb5114513a35d",
   "outputs": [
    {
     "name": "stdout",
     "output_type": "stream",
     "text": [
      "Classes found: ['infected', 'notinfected']\n",
      "Class to index mapping: {'infected': 0, 'notinfected': 1}\n",
      "Total images found: 1924\n",
      "\n",
      "Training set size: 1539\n",
      "Validation set size: 385\n"
     ]
    }
   ],
   "execution_count": 12
  },
  {
   "metadata": {
    "ExecuteTime": {
     "end_time": "2025-05-05T05:46:38.853187Z",
     "start_time": "2025-05-05T05:46:38.757785Z"
    }
   },
   "cell_type": "code",
   "source": [
    "# --- Model Definition ---\n",
    "# Load a pre-trained ResNet model (e.g., ResNet18 or ResNet50)\n",
    "model_ft = models.resnet18(weights=models.ResNet18_Weights.IMAGENET1K_V1) # Load pre-trained weights\n",
    "\n",
    "# Freeze all layers except the final classification layer\n",
    "# for param in model_ft.parameters():\n",
    "#     param.requires_grad = False  # Optional: Freeze layers for faster initial training\n",
    "\n",
    "# Get the number of input features for the final layer\n",
    "num_ftrs = model_ft.fc.in_features\n",
    "\n",
    "# Replace the final layer for our binary classification task\n",
    "# Output 2 units: one for each class ('infected', 'notinfected')\n",
    "model_ft.fc = nn.Linear(num_ftrs, len(class_names))\n",
    "\n",
    "# Move the model to the designated device (GPU or CPU)\n",
    "model_ft = model_ft.to(device)\n",
    "\n",
    "print(\"--- Model Defined (ResNet18 base) ---\")\n",
    "# print(model_ft) # Optional: Print model structure"
   ],
   "id": "64e17ec559c29bf8",
   "outputs": [
    {
     "name": "stdout",
     "output_type": "stream",
     "text": [
      "--- Model Defined (ResNet18 base) ---\n"
     ]
    }
   ],
   "execution_count": 13
  },
  {
   "metadata": {
    "ExecuteTime": {
     "end_time": "2025-05-05T05:46:41.099529Z",
     "start_time": "2025-05-05T05:46:41.067919Z"
    }
   },
   "cell_type": "code",
   "source": [
    "# --- Loss and Optimizer ---\n",
    "criterion = nn.CrossEntropyLoss() # Suitable for multi-class (even if only 2) output with raw scores\n",
    "\n",
    "# Observe that all parameters are being optimized (or only fc if frozen)\n",
    "optimizer_ft = optim.Adam(model_ft.parameters(), lr=learning_rate)\n",
    "\n",
    "# Optional: Learning rate scheduler\n",
    "# Decay LR by a factor of 0.1 every 7 epochs\n",
    "# scheduler = optim.lr_scheduler.StepLR(optimizer_ft, step_size=7, gamma=0.1)\n",
    "\n",
    "print(\"--- Loss function and optimizer defined ---\")"
   ],
   "id": "20fce0c0c35d587a",
   "outputs": [
    {
     "name": "stdout",
     "output_type": "stream",
     "text": [
      "--- Loss function and optimizer defined ---\n"
     ]
    }
   ],
   "execution_count": 14
  },
  {
   "metadata": {
    "ExecuteTime": {
     "end_time": "2025-05-05T05:46:42.742917Z",
     "start_time": "2025-05-05T05:46:42.736796Z"
    }
   },
   "cell_type": "code",
   "source": [
    "# --- Training Loop Function ---\n",
    "def train_model(model, criterion, optimizer, num_epochs=25):\n",
    "    since = time.time()\n",
    "\n",
    "    best_model_wts = copy.deepcopy(model.state_dict())\n",
    "    best_acc = 0.0\n",
    "    history = {'train_loss': [], 'train_acc': [], 'val_loss': [], 'val_acc': []}\n",
    "\n",
    "    for epoch in range(num_epochs):\n",
    "        print(f'Epoch {epoch+1}/{num_epochs}')\n",
    "        print('-' * 10)\n",
    "\n",
    "        # Each epoch has a training and validation phase\n",
    "        for phase in ['train', 'val']:\n",
    "            if phase == 'train':\n",
    "                model.train()  # Set model to training mode\n",
    "            else:\n",
    "                model.eval()   # Set model to evaluate mode\n",
    "\n",
    "            running_loss = 0.0\n",
    "            running_corrects = 0\n",
    "\n",
    "            # Use tqdm for progress bar over batches\n",
    "            dataloader_with_progress = tqdm(dataloaders[phase], desc=f'{phase.capitalize()} Epoch {epoch+1}/{num_epochs}')\n",
    "\n",
    "            # Iterate over data.\n",
    "            for inputs, labels in dataloader_with_progress:\n",
    "                inputs = inputs.to(device)\n",
    "                labels = labels.to(device)\n",
    "\n",
    "                # Zero the parameter gradients\n",
    "                optimizer.zero_grad()\n",
    "\n",
    "                # Forward\n",
    "                # Track history if only in train\n",
    "                with torch.set_grad_enabled(phase == 'train'):\n",
    "                    outputs = model(inputs)\n",
    "                    _, preds = torch.max(outputs, 1)\n",
    "                    loss = criterion(outputs, labels)\n",
    "\n",
    "                    # Backward + optimize only if in training phase\n",
    "                    if phase == 'train':\n",
    "                        loss.backward()\n",
    "                        optimizer.step()\n",
    "\n",
    "                # Statistics\n",
    "                running_loss += loss.item() * inputs.size(0)\n",
    "                running_corrects += torch.sum(preds == labels.data)\n",
    "\n",
    "                # Update tqdm description with running loss/acc\n",
    "                epoch_loss = running_loss / dataset_sizes[phase]\n",
    "                epoch_acc = running_corrects.double() / dataset_sizes[phase]\n",
    "                dataloader_with_progress.set_postfix({'Loss': f'{epoch_loss:.4f}', 'Acc': f'{epoch_acc:.4f}'})\n",
    "\n",
    "\n",
    "            # # Optional: Step the learning rate scheduler\n",
    "            # if phase == 'train' and scheduler:\n",
    "            #      scheduler.step()\n",
    "\n",
    "            epoch_loss = running_loss / dataset_sizes[phase]\n",
    "            epoch_acc = running_corrects.double() / dataset_sizes[phase]\n",
    "\n",
    "            history[f'{phase}_loss'].append(epoch_loss)\n",
    "            history[f'{phase}_acc'].append(epoch_acc.item()) # Store as float\n",
    "\n",
    "            print(f'{phase.capitalize()} Loss: {epoch_loss:.4f} Acc: {epoch_acc:.4f}')\n",
    "\n",
    "            # Deep copy the model if it's the best validation accuracy so far\n",
    "            if phase == 'val' and epoch_acc > best_acc:\n",
    "                best_acc = epoch_acc\n",
    "                best_model_wts = copy.deepcopy(model.state_dict())\n",
    "                print(f'*** Best validation Acc so far: {best_acc:.4f} ***')\n",
    "\n",
    "\n",
    "        print()\n",
    "\n",
    "    time_elapsed = time.time() - since\n",
    "    print(f'Training complete in {time_elapsed // 60:.0f}m {time_elapsed % 60:.0f}s')\n",
    "    print(f'Best val Acc: {best_acc:4f}')\n",
    "\n",
    "    # Load best model weights\n",
    "    model.load_state_dict(best_model_wts)\n",
    "    return model, history"
   ],
   "id": "eb03fdd96d57391d",
   "outputs": [],
   "execution_count": 15
  },
  {
   "metadata": {
    "ExecuteTime": {
     "end_time": "2025-05-05T05:46:49.020485Z",
     "start_time": "2025-05-05T05:46:48.943325Z"
    }
   },
   "cell_type": "code",
   "source": [
    "# --- Test DataLoader Iteration ---\n",
    "if data_loading_successful:\n",
    "  print(\"Attempting to load one batch from training dataloader...\")\n",
    "  try:\n",
    "      test_data_iter = iter(dataloaders['train'])\n",
    "      inputs, labels = next(test_data_iter)\n",
    "      print(f\"Successfully loaded one batch! Input shape: {inputs.shape}\")\n",
    "      # Optional: Test moving to device\n",
    "      # inputs = inputs.to(device)\n",
    "      # labels = labels.to(device)\n",
    "      # print(\"Successfully moved batch to device.\")\n",
    "  except Exception as e:\n",
    "      print(f\"Error loading batch: {e}\")\n",
    "      import traceback\n",
    "      traceback.print_exc() # Print more details if an error occurs here\n",
    "else:\n",
    "    print(\"Skipping dataloader test as data loading failed earlier.\")"
   ],
   "id": "2d51e5830aceccec",
   "outputs": [
    {
     "name": "stdout",
     "output_type": "stream",
     "text": [
      "Attempting to load one batch from training dataloader...\n",
      "Successfully loaded one batch! Input shape: torch.Size([32, 3, 224, 224])\n"
     ]
    }
   ],
   "execution_count": 16
  },
  {
   "metadata": {
    "ExecuteTime": {
     "end_time": "2025-05-05T05:48:52.832743Z",
     "start_time": "2025-05-05T05:46:52.364878Z"
    }
   },
   "cell_type": "code",
   "source": [
    "# --- Start Training ---\n",
    "# Only run if data loading was successful\n",
    "if data_loading_successful:\n",
    "    model_ft, history = train_model(model_ft, criterion, optimizer_ft, num_epochs=num_epochs)\n",
    "    # Save the best model weights if needed\n",
    "    # torch.save(model_ft.state_dict(), 'pcos_resnet18_best.pth')\n",
    "    # print(\"Best model weights saved.\")\n",
    "else:\n",
    "    print(\"Skipping training because data loading failed.\")"
   ],
   "id": "bb97c3d08b5a259f",
   "outputs": [
    {
     "name": "stdout",
     "output_type": "stream",
     "text": [
      "Epoch 1/25\n",
      "----------\n"
     ]
    },
    {
     "name": "stderr",
     "output_type": "stream",
     "text": [
      "Train Epoch 1/25: 100%|██████████| 49/49 [00:04<00:00, 11.20it/s, Loss=0.1551, Acc=0.9448]\n"
     ]
    },
    {
     "name": "stdout",
     "output_type": "stream",
     "text": [
      "Train Loss: 0.1551 Acc: 0.9448\n"
     ]
    },
    {
     "name": "stderr",
     "output_type": "stream",
     "text": [
      "Val Epoch 1/25: 100%|██████████| 13/13 [00:00<00:00, 13.68it/s, Loss=0.0020, Acc=1.0000]\n"
     ]
    },
    {
     "name": "stdout",
     "output_type": "stream",
     "text": [
      "Val Loss: 0.0020 Acc: 1.0000\n",
      "*** Best validation Acc so far: 1.0000 ***\n",
      "\n",
      "Epoch 2/25\n",
      "----------\n"
     ]
    },
    {
     "name": "stderr",
     "output_type": "stream",
     "text": [
      "Train Epoch 2/25: 100%|██████████| 49/49 [00:03<00:00, 13.23it/s, Loss=0.0870, Acc=0.9662]\n"
     ]
    },
    {
     "name": "stdout",
     "output_type": "stream",
     "text": [
      "Train Loss: 0.0870 Acc: 0.9662\n"
     ]
    },
    {
     "name": "stderr",
     "output_type": "stream",
     "text": [
      "Val Epoch 2/25: 100%|██████████| 13/13 [00:00<00:00, 14.66it/s, Loss=0.0081, Acc=1.0000]\n"
     ]
    },
    {
     "name": "stdout",
     "output_type": "stream",
     "text": [
      "Val Loss: 0.0081 Acc: 1.0000\n",
      "\n",
      "Epoch 3/25\n",
      "----------\n"
     ]
    },
    {
     "name": "stderr",
     "output_type": "stream",
     "text": [
      "Train Epoch 3/25: 100%|██████████| 49/49 [00:03<00:00, 13.13it/s, Loss=0.0367, Acc=0.9877]\n"
     ]
    },
    {
     "name": "stdout",
     "output_type": "stream",
     "text": [
      "Train Loss: 0.0367 Acc: 0.9877\n"
     ]
    },
    {
     "name": "stderr",
     "output_type": "stream",
     "text": [
      "Val Epoch 3/25: 100%|██████████| 13/13 [00:00<00:00, 14.88it/s, Loss=0.1118, Acc=0.9636]\n"
     ]
    },
    {
     "name": "stdout",
     "output_type": "stream",
     "text": [
      "Val Loss: 0.1118 Acc: 0.9636\n",
      "\n",
      "Epoch 4/25\n",
      "----------\n"
     ]
    },
    {
     "name": "stderr",
     "output_type": "stream",
     "text": [
      "Train Epoch 4/25: 100%|██████████| 49/49 [00:03<00:00, 13.49it/s, Loss=0.1026, Acc=0.9636]\n"
     ]
    },
    {
     "name": "stdout",
     "output_type": "stream",
     "text": [
      "Train Loss: 0.1026 Acc: 0.9636\n"
     ]
    },
    {
     "name": "stderr",
     "output_type": "stream",
     "text": [
      "Val Epoch 4/25: 100%|██████████| 13/13 [00:00<00:00, 14.64it/s, Loss=0.0063, Acc=1.0000]\n"
     ]
    },
    {
     "name": "stdout",
     "output_type": "stream",
     "text": [
      "Val Loss: 0.0063 Acc: 1.0000\n",
      "\n",
      "Epoch 5/25\n",
      "----------\n"
     ]
    },
    {
     "name": "stderr",
     "output_type": "stream",
     "text": [
      "Train Epoch 5/25: 100%|██████████| 49/49 [00:03<00:00, 13.46it/s, Loss=0.1422, Acc=0.9584]\n"
     ]
    },
    {
     "name": "stdout",
     "output_type": "stream",
     "text": [
      "Train Loss: 0.1422 Acc: 0.9584\n"
     ]
    },
    {
     "name": "stderr",
     "output_type": "stream",
     "text": [
      "Val Epoch 5/25: 100%|██████████| 13/13 [00:00<00:00, 15.09it/s, Loss=3.8392, Acc=0.5065]\n"
     ]
    },
    {
     "name": "stdout",
     "output_type": "stream",
     "text": [
      "Val Loss: 3.8392 Acc: 0.5065\n",
      "\n",
      "Epoch 6/25\n",
      "----------\n"
     ]
    },
    {
     "name": "stderr",
     "output_type": "stream",
     "text": [
      "Train Epoch 6/25: 100%|██████████| 49/49 [00:03<00:00, 13.40it/s, Loss=0.0465, Acc=0.9792]\n"
     ]
    },
    {
     "name": "stdout",
     "output_type": "stream",
     "text": [
      "Train Loss: 0.0465 Acc: 0.9792\n"
     ]
    },
    {
     "name": "stderr",
     "output_type": "stream",
     "text": [
      "Val Epoch 6/25: 100%|██████████| 13/13 [00:00<00:00, 14.69it/s, Loss=0.0076, Acc=1.0000]\n"
     ]
    },
    {
     "name": "stdout",
     "output_type": "stream",
     "text": [
      "Val Loss: 0.0076 Acc: 1.0000\n",
      "\n",
      "Epoch 7/25\n",
      "----------\n"
     ]
    },
    {
     "name": "stderr",
     "output_type": "stream",
     "text": [
      "Train Epoch 7/25: 100%|██████████| 49/49 [00:03<00:00, 13.34it/s, Loss=0.0365, Acc=0.9903]\n"
     ]
    },
    {
     "name": "stdout",
     "output_type": "stream",
     "text": [
      "Train Loss: 0.0365 Acc: 0.9903\n"
     ]
    },
    {
     "name": "stderr",
     "output_type": "stream",
     "text": [
      "Val Epoch 7/25: 100%|██████████| 13/13 [00:00<00:00, 15.08it/s, Loss=0.0258, Acc=0.9922]\n"
     ]
    },
    {
     "name": "stdout",
     "output_type": "stream",
     "text": [
      "Val Loss: 0.0258 Acc: 0.9922\n",
      "\n",
      "Epoch 8/25\n",
      "----------\n"
     ]
    },
    {
     "name": "stderr",
     "output_type": "stream",
     "text": [
      "Train Epoch 8/25: 100%|██████████| 49/49 [00:03<00:00, 13.22it/s, Loss=0.0694, Acc=0.9766]\n"
     ]
    },
    {
     "name": "stdout",
     "output_type": "stream",
     "text": [
      "Train Loss: 0.0694 Acc: 0.9766\n"
     ]
    },
    {
     "name": "stderr",
     "output_type": "stream",
     "text": [
      "Val Epoch 8/25: 100%|██████████| 13/13 [00:00<00:00, 14.27it/s, Loss=0.0424, Acc=0.9870]\n"
     ]
    },
    {
     "name": "stdout",
     "output_type": "stream",
     "text": [
      "Val Loss: 0.0424 Acc: 0.9870\n",
      "\n",
      "Epoch 9/25\n",
      "----------\n"
     ]
    },
    {
     "name": "stderr",
     "output_type": "stream",
     "text": [
      "Train Epoch 9/25: 100%|██████████| 49/49 [00:03<00:00, 13.39it/s, Loss=0.0600, Acc=0.9818]\n"
     ]
    },
    {
     "name": "stdout",
     "output_type": "stream",
     "text": [
      "Train Loss: 0.0600 Acc: 0.9818\n"
     ]
    },
    {
     "name": "stderr",
     "output_type": "stream",
     "text": [
      "Val Epoch 9/25: 100%|██████████| 13/13 [00:00<00:00, 14.20it/s, Loss=0.0041, Acc=1.0000]\n"
     ]
    },
    {
     "name": "stdout",
     "output_type": "stream",
     "text": [
      "Val Loss: 0.0041 Acc: 1.0000\n",
      "\n",
      "Epoch 10/25\n",
      "----------\n"
     ]
    },
    {
     "name": "stderr",
     "output_type": "stream",
     "text": [
      "Train Epoch 10/25: 100%|██████████| 49/49 [00:03<00:00, 13.26it/s, Loss=0.0181, Acc=0.9935]\n"
     ]
    },
    {
     "name": "stdout",
     "output_type": "stream",
     "text": [
      "Train Loss: 0.0181 Acc: 0.9935\n"
     ]
    },
    {
     "name": "stderr",
     "output_type": "stream",
     "text": [
      "Val Epoch 10/25: 100%|██████████| 13/13 [00:00<00:00, 14.47it/s, Loss=0.0029, Acc=1.0000]\n"
     ]
    },
    {
     "name": "stdout",
     "output_type": "stream",
     "text": [
      "Val Loss: 0.0029 Acc: 1.0000\n",
      "\n",
      "Epoch 11/25\n",
      "----------\n"
     ]
    },
    {
     "name": "stderr",
     "output_type": "stream",
     "text": [
      "Train Epoch 11/25: 100%|██████████| 49/49 [00:03<00:00, 12.49it/s, Loss=0.0325, Acc=0.9896]\n"
     ]
    },
    {
     "name": "stdout",
     "output_type": "stream",
     "text": [
      "Train Loss: 0.0325 Acc: 0.9896\n"
     ]
    },
    {
     "name": "stderr",
     "output_type": "stream",
     "text": [
      "Val Epoch 11/25: 100%|██████████| 13/13 [00:00<00:00, 13.01it/s, Loss=0.1833, Acc=0.9247]\n"
     ]
    },
    {
     "name": "stdout",
     "output_type": "stream",
     "text": [
      "Val Loss: 0.1833 Acc: 0.9247\n",
      "\n",
      "Epoch 12/25\n",
      "----------\n"
     ]
    },
    {
     "name": "stderr",
     "output_type": "stream",
     "text": [
      "Train Epoch 12/25: 100%|██████████| 49/49 [00:03<00:00, 12.34it/s, Loss=0.1088, Acc=0.9623]\n"
     ]
    },
    {
     "name": "stdout",
     "output_type": "stream",
     "text": [
      "Train Loss: 0.1088 Acc: 0.9623\n"
     ]
    },
    {
     "name": "stderr",
     "output_type": "stream",
     "text": [
      "Val Epoch 12/25: 100%|██████████| 13/13 [00:00<00:00, 13.10it/s, Loss=0.0379, Acc=0.9792]\n"
     ]
    },
    {
     "name": "stdout",
     "output_type": "stream",
     "text": [
      "Val Loss: 0.0379 Acc: 0.9792\n",
      "\n",
      "Epoch 13/25\n",
      "----------\n"
     ]
    },
    {
     "name": "stderr",
     "output_type": "stream",
     "text": [
      "Train Epoch 13/25: 100%|██████████| 49/49 [00:03<00:00, 12.35it/s, Loss=0.0464, Acc=0.9818]\n"
     ]
    },
    {
     "name": "stdout",
     "output_type": "stream",
     "text": [
      "Train Loss: 0.0464 Acc: 0.9818\n"
     ]
    },
    {
     "name": "stderr",
     "output_type": "stream",
     "text": [
      "Val Epoch 13/25: 100%|██████████| 13/13 [00:01<00:00, 12.56it/s, Loss=0.0054, Acc=1.0000]\n"
     ]
    },
    {
     "name": "stdout",
     "output_type": "stream",
     "text": [
      "Val Loss: 0.0054 Acc: 1.0000\n",
      "\n",
      "Epoch 14/25\n",
      "----------\n"
     ]
    },
    {
     "name": "stderr",
     "output_type": "stream",
     "text": [
      "Train Epoch 14/25: 100%|██████████| 49/49 [00:03<00:00, 12.41it/s, Loss=0.0420, Acc=0.9864]\n"
     ]
    },
    {
     "name": "stdout",
     "output_type": "stream",
     "text": [
      "Train Loss: 0.0420 Acc: 0.9864\n"
     ]
    },
    {
     "name": "stderr",
     "output_type": "stream",
     "text": [
      "Val Epoch 14/25: 100%|██████████| 13/13 [00:00<00:00, 13.63it/s, Loss=0.0032, Acc=1.0000]\n"
     ]
    },
    {
     "name": "stdout",
     "output_type": "stream",
     "text": [
      "Val Loss: 0.0032 Acc: 1.0000\n",
      "\n",
      "Epoch 15/25\n",
      "----------\n"
     ]
    },
    {
     "name": "stderr",
     "output_type": "stream",
     "text": [
      "Train Epoch 15/25: 100%|██████████| 49/49 [00:03<00:00, 12.53it/s, Loss=0.0298, Acc=0.9903]\n"
     ]
    },
    {
     "name": "stdout",
     "output_type": "stream",
     "text": [
      "Train Loss: 0.0298 Acc: 0.9903\n"
     ]
    },
    {
     "name": "stderr",
     "output_type": "stream",
     "text": [
      "Val Epoch 15/25: 100%|██████████| 13/13 [00:00<00:00, 13.44it/s, Loss=0.0002, Acc=1.0000]\n"
     ]
    },
    {
     "name": "stdout",
     "output_type": "stream",
     "text": [
      "Val Loss: 0.0002 Acc: 1.0000\n",
      "\n",
      "Epoch 16/25\n",
      "----------\n"
     ]
    },
    {
     "name": "stderr",
     "output_type": "stream",
     "text": [
      "Train Epoch 16/25: 100%|██████████| 49/49 [00:03<00:00, 12.44it/s, Loss=0.0642, Acc=0.9773]\n"
     ]
    },
    {
     "name": "stdout",
     "output_type": "stream",
     "text": [
      "Train Loss: 0.0642 Acc: 0.9773\n"
     ]
    },
    {
     "name": "stderr",
     "output_type": "stream",
     "text": [
      "Val Epoch 16/25: 100%|██████████| 13/13 [00:00<00:00, 13.39it/s, Loss=0.0019, Acc=1.0000]\n"
     ]
    },
    {
     "name": "stdout",
     "output_type": "stream",
     "text": [
      "Val Loss: 0.0019 Acc: 1.0000\n",
      "\n",
      "Epoch 17/25\n",
      "----------\n"
     ]
    },
    {
     "name": "stderr",
     "output_type": "stream",
     "text": [
      "Train Epoch 17/25: 100%|██████████| 49/49 [00:03<00:00, 12.30it/s, Loss=0.0546, Acc=0.9818]\n"
     ]
    },
    {
     "name": "stdout",
     "output_type": "stream",
     "text": [
      "Train Loss: 0.0546 Acc: 0.9818\n"
     ]
    },
    {
     "name": "stderr",
     "output_type": "stream",
     "text": [
      "Val Epoch 17/25: 100%|██████████| 13/13 [00:00<00:00, 13.48it/s, Loss=0.0009, Acc=1.0000]\n"
     ]
    },
    {
     "name": "stdout",
     "output_type": "stream",
     "text": [
      "Val Loss: 0.0009 Acc: 1.0000\n",
      "\n",
      "Epoch 18/25\n",
      "----------\n"
     ]
    },
    {
     "name": "stderr",
     "output_type": "stream",
     "text": [
      "Train Epoch 18/25: 100%|██████████| 49/49 [00:03<00:00, 12.50it/s, Loss=0.0315, Acc=0.9922]\n"
     ]
    },
    {
     "name": "stdout",
     "output_type": "stream",
     "text": [
      "Train Loss: 0.0315 Acc: 0.9922\n"
     ]
    },
    {
     "name": "stderr",
     "output_type": "stream",
     "text": [
      "Val Epoch 18/25: 100%|██████████| 13/13 [00:00<00:00, 13.25it/s, Loss=0.0005, Acc=1.0000]\n"
     ]
    },
    {
     "name": "stdout",
     "output_type": "stream",
     "text": [
      "Val Loss: 0.0005 Acc: 1.0000\n",
      "\n",
      "Epoch 19/25\n",
      "----------\n"
     ]
    },
    {
     "name": "stderr",
     "output_type": "stream",
     "text": [
      "Train Epoch 19/25: 100%|██████████| 49/49 [00:03<00:00, 12.43it/s, Loss=0.0145, Acc=0.9961]\n"
     ]
    },
    {
     "name": "stdout",
     "output_type": "stream",
     "text": [
      "Train Loss: 0.0145 Acc: 0.9961\n"
     ]
    },
    {
     "name": "stderr",
     "output_type": "stream",
     "text": [
      "Val Epoch 19/25: 100%|██████████| 13/13 [00:00<00:00, 13.30it/s, Loss=0.0003, Acc=1.0000]\n"
     ]
    },
    {
     "name": "stdout",
     "output_type": "stream",
     "text": [
      "Val Loss: 0.0003 Acc: 1.0000\n",
      "\n",
      "Epoch 20/25\n",
      "----------\n"
     ]
    },
    {
     "name": "stderr",
     "output_type": "stream",
     "text": [
      "Train Epoch 20/25: 100%|██████████| 49/49 [00:03<00:00, 12.34it/s, Loss=0.0269, Acc=0.9909]\n"
     ]
    },
    {
     "name": "stdout",
     "output_type": "stream",
     "text": [
      "Train Loss: 0.0269 Acc: 0.9909\n"
     ]
    },
    {
     "name": "stderr",
     "output_type": "stream",
     "text": [
      "Val Epoch 20/25: 100%|██████████| 13/13 [00:00<00:00, 13.30it/s, Loss=0.0159, Acc=0.9922]\n"
     ]
    },
    {
     "name": "stdout",
     "output_type": "stream",
     "text": [
      "Val Loss: 0.0159 Acc: 0.9922\n",
      "\n",
      "Epoch 21/25\n",
      "----------\n"
     ]
    },
    {
     "name": "stderr",
     "output_type": "stream",
     "text": [
      "Train Epoch 21/25: 100%|██████████| 49/49 [00:03<00:00, 12.53it/s, Loss=0.1008, Acc=0.9708]\n"
     ]
    },
    {
     "name": "stdout",
     "output_type": "stream",
     "text": [
      "Train Loss: 0.1008 Acc: 0.9708\n"
     ]
    },
    {
     "name": "stderr",
     "output_type": "stream",
     "text": [
      "Val Epoch 21/25: 100%|██████████| 13/13 [00:00<00:00, 13.03it/s, Loss=0.0534, Acc=0.9792]\n"
     ]
    },
    {
     "name": "stdout",
     "output_type": "stream",
     "text": [
      "Val Loss: 0.0534 Acc: 0.9792\n",
      "\n",
      "Epoch 22/25\n",
      "----------\n"
     ]
    },
    {
     "name": "stderr",
     "output_type": "stream",
     "text": [
      "Train Epoch 22/25: 100%|██████████| 49/49 [00:03<00:00, 12.50it/s, Loss=0.0573, Acc=0.9825]\n"
     ]
    },
    {
     "name": "stdout",
     "output_type": "stream",
     "text": [
      "Train Loss: 0.0573 Acc: 0.9825\n"
     ]
    },
    {
     "name": "stderr",
     "output_type": "stream",
     "text": [
      "Val Epoch 22/25: 100%|██████████| 13/13 [00:00<00:00, 13.29it/s, Loss=0.0054, Acc=0.9948]\n"
     ]
    },
    {
     "name": "stdout",
     "output_type": "stream",
     "text": [
      "Val Loss: 0.0054 Acc: 0.9948\n",
      "\n",
      "Epoch 23/25\n",
      "----------\n"
     ]
    },
    {
     "name": "stderr",
     "output_type": "stream",
     "text": [
      "Train Epoch 23/25: 100%|██████████| 49/49 [00:03<00:00, 12.44it/s, Loss=0.0506, Acc=0.9825]\n"
     ]
    },
    {
     "name": "stdout",
     "output_type": "stream",
     "text": [
      "Train Loss: 0.0506 Acc: 0.9825\n"
     ]
    },
    {
     "name": "stderr",
     "output_type": "stream",
     "text": [
      "Val Epoch 23/25: 100%|██████████| 13/13 [00:00<00:00, 13.39it/s, Loss=0.0100, Acc=0.9974]\n"
     ]
    },
    {
     "name": "stdout",
     "output_type": "stream",
     "text": [
      "Val Loss: 0.0100 Acc: 0.9974\n",
      "\n",
      "Epoch 24/25\n",
      "----------\n"
     ]
    },
    {
     "name": "stderr",
     "output_type": "stream",
     "text": [
      "Train Epoch 24/25: 100%|██████████| 49/49 [00:04<00:00, 12.23it/s, Loss=0.0763, Acc=0.9753]\n"
     ]
    },
    {
     "name": "stdout",
     "output_type": "stream",
     "text": [
      "Train Loss: 0.0763 Acc: 0.9753\n"
     ]
    },
    {
     "name": "stderr",
     "output_type": "stream",
     "text": [
      "Val Epoch 24/25: 100%|██████████| 13/13 [00:00<00:00, 13.24it/s, Loss=0.0395, Acc=0.9792]\n"
     ]
    },
    {
     "name": "stdout",
     "output_type": "stream",
     "text": [
      "Val Loss: 0.0395 Acc: 0.9792\n",
      "\n",
      "Epoch 25/25\n",
      "----------\n"
     ]
    },
    {
     "name": "stderr",
     "output_type": "stream",
     "text": [
      "Train Epoch 25/25: 100%|██████████| 49/49 [00:03<00:00, 12.43it/s, Loss=0.0491, Acc=0.9857]\n"
     ]
    },
    {
     "name": "stdout",
     "output_type": "stream",
     "text": [
      "Train Loss: 0.0491 Acc: 0.9857\n"
     ]
    },
    {
     "name": "stderr",
     "output_type": "stream",
     "text": [
      "Val Epoch 25/25: 100%|██████████| 13/13 [00:00<00:00, 13.19it/s, Loss=0.0034, Acc=1.0000]"
     ]
    },
    {
     "name": "stdout",
     "output_type": "stream",
     "text": [
      "Val Loss: 0.0034 Acc: 1.0000\n",
      "\n",
      "Training complete in 2m 0s\n",
      "Best val Acc: 1.000000\n"
     ]
    },
    {
     "name": "stderr",
     "output_type": "stream",
     "text": [
      "\n"
     ]
    }
   ],
   "execution_count": 17
  },
  {
   "metadata": {
    "ExecuteTime": {
     "end_time": "2025-05-05T05:49:22.843292Z",
     "start_time": "2025-05-05T05:49:22.685129Z"
    }
   },
   "cell_type": "code",
   "source": [
    "# --- Plot Training History ---\n",
    "if data_loading_successful and history:\n",
    "    plt.figure(figsize=(12, 5))\n",
    "\n",
    "    plt.subplot(1, 2, 1)\n",
    "    plt.plot(history['train_acc'], label='Train Accuracy')\n",
    "    plt.plot(history['val_acc'], label='Validation Accuracy')\n",
    "    plt.xlabel('Epoch')\n",
    "    plt.ylabel('Accuracy')\n",
    "    plt.title('Model Accuracy over Epochs')\n",
    "    plt.legend()\n",
    "    plt.grid(True)\n",
    "\n",
    "    plt.subplot(1, 2, 2)\n",
    "    plt.plot(history['train_loss'], label='Train Loss')\n",
    "    plt.plot(history['val_loss'], label='Validation Loss')\n",
    "    plt.xlabel('Epoch')\n",
    "    plt.ylabel('Loss')\n",
    "    plt.title('Model Loss over Epochs')\n",
    "    plt.legend()\n",
    "    plt.grid(True)\n",
    "\n",
    "    plt.tight_layout()\n",
    "    plt.show()\n",
    "else:\n",
    "    print(\"Skipping plotting as training did not occur or history is missing.\")"
   ],
   "id": "d1c16cb854c49976",
   "outputs": [
    {
     "data": {
      "text/plain": [
       "<Figure size 1200x500 with 2 Axes>"
      ],
      "image/png": "[encoded data removed]"
     },
     "metadata": {},
     "output_type": "display_data"
    }
   ],
   "execution_count": 18
  },
  {
   "metadata": {
    "ExecuteTime": {
     "end_time": "2025-05-05T05:49:43.193720Z",
     "start_time": "2025-05-05T05:49:41.902295Z"
    }
   },
   "cell_type": "code",
   "source": [
    "# --- Evaluation ---\n",
    "# You would ideally have a separate test set loader here.\n",
    "# For now, we'll re-evaluate on the validation set with the best weights loaded.\n",
    "from sklearn.metrics import classification_report, confusion_matrix\n",
    "import seaborn as sns\n",
    "\n",
    "def evaluate_model(model, dataloader):\n",
    "    model.eval() # Set model to evaluation mode\n",
    "    all_preds = []\n",
    "    all_labels = []\n",
    "\n",
    "    with torch.no_grad(): # No need to track gradients\n",
    "        for inputs, labels in tqdm(dataloader, desc=\"Evaluating\"):\n",
    "            inputs = inputs.to(device)\n",
    "            labels = labels.to(device)\n",
    "\n",
    "            outputs = model(inputs)\n",
    "            _, preds = torch.max(outputs, 1)\n",
    "\n",
    "            all_preds.extend(preds.cpu().numpy())\n",
    "            all_labels.extend(labels.cpu().numpy())\n",
    "\n",
    "    return all_labels, all_preds\n",
    "\n",
    "\n",
    "if data_loading_successful:\n",
    "    print(\"\\n--- Evaluating on Validation Set using Best Model Weights ---\")\n",
    "    true_labels, predicted_labels = evaluate_model(model_ft, dataloaders['val'])\n",
    "\n",
    "    print(\"\\nClassification Report (Validation Set):\\n\")\n",
    "    print(classification_report(true_labels, predicted_labels, target_names=class_names))\n",
    "\n",
    "    print(\"\\nConfusion Matrix (Validation Set):\\n\")\n",
    "    cm = confusion_matrix(true_labels, predicted_labels)\n",
    "    print(cm)\n",
    "\n",
    "    # Plot Confusion Matrix\n",
    "    plt.figure(figsize=(6,5))\n",
    "    sns.heatmap(cm, annot=True, fmt='d', cmap='Blues',\n",
    "                xticklabels=class_names, yticklabels=class_names)\n",
    "    plt.title('Confusion Matrix (Validation Set)')\n",
    "    plt.xlabel('Predicted Label')\n",
    "    plt.ylabel('True Label')\n",
    "    plt.show()\n",
    "else:\n",
    "    print(\"Skipping evaluation as training did not occur.\")"
   ],
   "id": "7f8db36cd953dcbe",
   "outputs": [
    {
     "name": "stdout",
     "output_type": "stream",
     "text": [
      "\n",
      "--- Evaluating on Validation Set using Best Model Weights ---\n"
     ]
    },
    {
     "name": "stderr",
     "output_type": "stream",
     "text": [
      "Evaluating: 100%|██████████| 13/13 [00:01<00:00, 11.60it/s]"
     ]
    },
    {
     "name": "stdout",
     "output_type": "stream",
     "text": [
      "\n",
      "Classification Report (Validation Set):\n",
      "\n",
      "              precision    recall  f1-score   support\n",
      "\n",
      "    infected       1.00      1.00      1.00       160\n",
      " notinfected       1.00      1.00      1.00       225\n",
      "\n",
      "    accuracy                           1.00       385\n",
      "   macro avg       1.00      1.00      1.00       385\n",
      "weighted avg       1.00      1.00      1.00       385\n",
      "\n",
      "\n",
      "Confusion Matrix (Validation Set):\n",
      "\n",
      "[[160   0]\n",
      " [  0 225]]\n"
     ]
    },
    {
     "name": "stderr",
     "output_type": "stream",
     "text": [
      "\n"
     ]
    },
    {
     "data": {
      "text/plain": [
       "<Figure size 600x500 with 2 Axes>"
      ],
      "image/png": "[encoded data removed]"
     },
     "metadata": {},
     "output_type": "display_data"
    }
   ],
   "execution_count": 19
  },
  {
   "metadata": {
    "ExecuteTime": {
     "end_time": "2025-05-05T06:11:54.273852Z",
     "start_time": "2025-05-05T06:11:53.013604Z"
    }
   },
   "cell_type": "code",
   "source": [
    "# Cell: Pre-filter Test Images\n",
    "import os\n",
    "from torchvision import datasets\n",
    "from PIL import Image, UnidentifiedImageError # Import specific error\n",
    "from tqdm import tqdm\n",
    "import torch # Make sure torch is imported\n",
    "\n",
    "# Define path for the TEST data\n",
    "test_data_dir = '../data/archive/data/test' # Directory containing 'infected' and 'notinfected' test subfolders\n",
    "\n",
    "print(f\"\\n--- Scanning for valid images in: {test_data_dir} ---\")\n",
    "pre_filtering_done = False\n",
    "valid_samples = []\n",
    "class_names = [] # Will get this from temp dataset\n",
    "\n",
    "# Use ImageFolder just to easily get all samples (path, class_idx)\n",
    "try:\n",
    "    # Create a temporary dataset to get file list and classes\n",
    "    # Use minimal default transform to avoid issues here if any file causes transform errors\n",
    "    temp_dataset = datasets.ImageFolder(test_data_dir)\n",
    "    all_samples = temp_dataset.samples # List of (filepath, class_index) tuples\n",
    "    class_names = temp_dataset.classes # Get class names ['infected', 'notinfected']\n",
    "    print(f\"Found {len(all_samples)} total files listed.\")\n",
    "    print(f\"Classes found: {class_names}\")\n",
    "\n",
    "    invalid_files_count = 0\n",
    "    for path, class_idx in tqdm(all_samples, desc=\"Checking images\"):\n",
    "        try:\n",
    "            # Try to open and load the image to ensure it's valid\n",
    "            with Image.open(path) as img:\n",
    "                img.load() # Attempt to load image data\n",
    "            # If successful, add to our list of valid samples\n",
    "            valid_samples.append((path, class_idx))\n",
    "        except (UnidentifiedImageError, FileNotFoundError, OSError, IOError) as e:\n",
    "            # Catch common image loading errors and skip the file\n",
    "            # print(f\"Skipping invalid file: {path} - {e}\") # Optional: uncomment to see skipped files\n",
    "            invalid_files_count += 1\n",
    "\n",
    "    print(f\"\\nScan complete.\")\n",
    "    print(f\"Found {len(valid_samples)} valid images.\")\n",
    "    if invalid_files_count > 0:\n",
    "        print(f\"Skipped {invalid_files_count} invalid files.\")\n",
    "    pre_filtering_done = True\n",
    "\n",
    "except FileNotFoundError:\n",
    "    print(f\"Error: Test data directory not found at {test_data_dir}\")\n",
    "except Exception as e:\n",
    "    print(f\"An error occurred during scanning: {e}\")\n",
    "\n",
    "# Now you should have 'valid_samples' (list of (path, class_idx) for good images)\n",
    "# and 'class_names' available for the next cell."
   ],
   "id": "590f259b81c5e3b1",
   "outputs": [
    {
     "name": "stdout",
     "output_type": "stream",
     "text": [
      "\n",
      "--- Scanning for valid images in: ../data/archive/data/test ---\n",
      "Found 1932 total files listed.\n",
      "Classes found: ['infected', 'notinfected']\n"
     ]
    },
    {
     "name": "stderr",
     "output_type": "stream",
     "text": [
      "Checking images: 100%|██████████| 1932/1932 [00:01<00:00, 1572.69it/s]"
     ]
    },
    {
     "name": "stdout",
     "output_type": "stream",
     "text": [
      "\n",
      "Scan complete.\n",
      "Found 1922 valid images.\n",
      "Skipped 10 invalid files.\n"
     ]
    },
    {
     "name": "stderr",
     "output_type": "stream",
     "text": [
      "\n"
     ]
    }
   ],
   "execution_count": 22
  },
  {
   "metadata": {
    "ExecuteTime": {
     "end_time": "2025-05-05T06:12:46.267628Z",
     "start_time": "2025-05-05T06:12:46.236284Z"
    }
   },
   "cell_type": "code",
   "source": [
    "# Cell: Define Test Loader (Using Pre-filtered Data)\n",
    "# Ensure 'Dataset', 'DataLoader', 'data_transforms', 'batch_size' exist from previous cells\n",
    "# Ensure necessary libraries (torch, PIL) are imported\n",
    "\n",
    "# --- Create Test Dataset and DataLoader using pre-filtered list ---\n",
    "\n",
    "print(f\"\\n--- Creating TEST dataset using {len(valid_samples)} pre-validated images ---\")\n",
    "\n",
    "# Custom Dataset class that takes the list of valid samples\n",
    "class ValidatedImageDataset(Dataset):\n",
    "    def __init__(self, samples, transform=None):\n",
    "        self.samples = samples # List of (filepath, class_index) tuples\n",
    "        self.transform = transform\n",
    "\n",
    "    def __len__(self):\n",
    "        return len(self.samples)\n",
    "\n",
    "    def __getitem__(self, index):\n",
    "        path, label = self.samples[index]\n",
    "        try:\n",
    "            # Open image, convert to RGB (important for pre-trained models)\n",
    "            img = Image.open(path).convert('RGB')\n",
    "            # Apply transforms if they exist\n",
    "            if self.transform:\n",
    "                img = self.transform(img)\n",
    "            return img, label\n",
    "        except Exception as e:\n",
    "            # Should ideally not happen often now, but good to have a fallback\n",
    "            print(f\"Error loading/transforming presumably valid file {path}: {e}. Skipping.\")\n",
    "            # Return None or handle appropriately; maybe return placeholder?\n",
    "            # Returning None requires a custom collate_fn in DataLoader to handle it.\n",
    "            # For simplicity now, let's re-raise, but ideally handle more gracefully.\n",
    "            raise e\n",
    "\n",
    "\n",
    "if pre_filtering_done and valid_samples:\n",
    "    try:\n",
    "        # Create test dataset using the valid samples and 'test' transforms\n",
    "        test_dataset = ValidatedImageDataset(valid_samples, transform=data_transforms['test'])\n",
    "        print(f\"Successfully created test dataset with {len(test_dataset)} images.\")\n",
    "\n",
    "        # Create test DataLoader (no shuffle needed)\n",
    "        test_loader = DataLoader(test_dataset, batch_size=batch_size, shuffle=False, num_workers=0) # Keep num_workers=0\n",
    "        print(\"Successfully created test DataLoader.\")\n",
    "        test_data_loading_successful = True\n",
    "\n",
    "    except Exception as e:\n",
    "        print(f\"Error creating test dataset/dataloader from valid samples: {e}\")\n",
    "        test_data_loading_successful = False\n",
    "else:\n",
    "    print(\"\\nSkipping Test DataLoader creation as pre-filtering failed or found no valid samples.\")\n",
    "    test_data_loading_successful = False"
   ],
   "id": "4914c45f8a97e149",
   "outputs": [
    {
     "name": "stdout",
     "output_type": "stream",
     "text": [
      "\n",
      "--- Creating TEST dataset using 1922 pre-validated images ---\n",
      "Successfully created test dataset with 1922 images.\n",
      "Successfully created test DataLoader.\n"
     ]
    }
   ],
   "execution_count": 23
  },
  {
   "metadata": {
    "ExecuteTime": {
     "end_time": "2025-05-05T06:13:16.795209Z",
     "start_time": "2025-05-05T06:13:12.164575Z"
    }
   },
   "cell_type": "code",
   "source": [
    "# Ensure 'model_ft' (with best weights loaded), 'device', 'evaluate_model' function,\n",
    "# 'class_names', 'classification_report', 'confusion_matrix', 'sns', 'plt' exist\n",
    "\n",
    "if test_data_loading_successful:\n",
    "    print(\"\\n--- Evaluating CNN on Actual Test Set ---\")\n",
    "    # IMPORTANT: Ensure 'model_ft' contains the weights from the best validation epoch\n",
    "\n",
    "    # Use the evaluation function defined earlier\n",
    "    true_labels_test, predicted_labels_test = evaluate_model(model_ft, test_loader)\n",
    "\n",
    "    print(\"\\nClassification Report (Test Set):\\n\")\n",
    "    # Ensure class_names is defined correctly from your training setup\n",
    "    print(classification_report(true_labels_test, predicted_labels_test, target_names=class_names))\n",
    "\n",
    "    print(\"\\nConfusion Matrix (Test Set):\\n\")\n",
    "    cm_test = confusion_matrix(true_labels_test, predicted_labels_test)\n",
    "    print(cm_test)\n",
    "\n",
    "    # Plot Confusion Matrix\n",
    "    plt.figure(figsize=(6,5))\n",
    "    sns.heatmap(cm_test, annot=True, fmt='d', cmap='Blues',\n",
    "                xticklabels=class_names, yticklabels=class_names)\n",
    "    plt.title('CNN Confusion Matrix (Test Set)')\n",
    "    plt.xlabel('Predicted Label')\n",
    "    plt.ylabel('True Label')\n",
    "    plt.show()\n",
    "else:\n",
    "    print(\"\\nSkipping test set evaluation for CNN model as test data loading failed.\")"
   ],
   "id": "aab0f89a97bd843e",
   "outputs": [
    {
     "name": "stdout",
     "output_type": "stream",
     "text": [
      "\n",
      "--- Evaluating CNN on Actual Test Set ---\n"
     ]
    },
    {
     "name": "stderr",
     "output_type": "stream",
     "text": [
      "Evaluating: 100%|██████████| 61/61 [00:04<00:00, 13.37it/s]"
     ]
    },
    {
     "name": "stdout",
     "output_type": "stream",
     "text": [
      "\n",
      "Classification Report (Test Set):\n",
      "\n",
      "              precision    recall  f1-score   support\n",
      "\n",
      "    infected       1.00      1.00      1.00       781\n",
      " notinfected       1.00      1.00      1.00      1141\n",
      "\n",
      "    accuracy                           1.00      1922\n",
      "   macro avg       1.00      1.00      1.00      1922\n",
      "weighted avg       1.00      1.00      1.00      1922\n",
      "\n",
      "\n",
      "Confusion Matrix (Test Set):\n",
      "\n",
      "[[ 781    0]\n",
      " [   0 1141]]\n"
     ]
    },
    {
     "name": "stderr",
     "output_type": "stream",
     "text": [
      "\n"
     ]
    },
    {
     "data": {
      "text/plain": [
       "<Figure size 600x500 with 2 Axes>"
      ],
      "image/png": "[encoded data removed]"
     },
     "metadata": {},
     "output_type": "display_data"
    }
   ],
   "execution_count": 24
  }
 ],
 "metadata": {
  "kernelspec": {
   "display_name": "Python 3",
   "language": "python",
   "name": "python3"
  },
  "language_info": {
   "codemirror_mode": {
    "name": "ipython",
    "version": 2
   },
   "file_extension": ".py",
   "mimetype": "text/x-python",
   "name": "python",
   "nbconvert_exporter": "python",
   "pygments_lexer": "ipython2",
   "version": "2.7.6"
  }
 },
 "nbformat": 4,
 "nbformat_minor": 5
}
